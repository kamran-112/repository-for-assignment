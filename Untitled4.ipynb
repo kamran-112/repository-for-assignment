{
 "cells": [
  {
   "cell_type": "code",
   "execution_count": 33,
   "metadata": {},
   "outputs": [
    {
     "name": "stdout",
     "output_type": "stream",
     "text": [
      "So far 1\n",
      "So far 2\n",
      "an contains 42\n"
     ]
    }
   ],
   "source": [
    "class PartyAnimal:\n",
    " x = 0\n",
    "\n",
    " def party(self):\n",
    "  self.x = self.x + 1\n",
    "  print('So far', self.x)\n",
    "\n",
    "an = PartyAnimal()\n",
    "an.party()\n",
    "an.party()\n",
    "an = 42\n",
    "print('an contains',an)\n"
   ]
  },
  {
   "cell_type": "code",
   "execution_count": 37,
   "metadata": {},
   "outputs": [
    {
     "name": "stdout",
     "output_type": "stream",
     "text": [
      "2 constructed\n",
      "3 constructed\n",
      "So far 1\n",
      "So far 1\n",
      "So far 2\n"
     ]
    }
   ],
   "source": [
    "class PartyAnimal:\n",
    " x = 0\n",
    " name=\"\"\n",
    "    \n",
    " def __init__(self,z):\n",
    "  self.name=z\n",
    "  print(self.name,\"constructed\")\n",
    "        \n",
    " def party(self):\n",
    "  self.x = self.x + 1\n",
    "  print('So far', self.x)\n",
    "        \n",
    "s=PartyAnimal(2)\n",
    "j=PartyAnimal(3)\n",
    "\n",
    "s.party()\n",
    "j.party()\n",
    "s.party()"
   ]
  },
  {
   "cell_type": "code",
   "execution_count": 17,
   "metadata": {},
   "outputs": [
    {
     "data": {
      "text/plain": [
       "6"
      ]
     },
     "execution_count": 17,
     "metadata": {},
     "output_type": "execute_result"
    }
   ],
   "source": [
    "len(x)"
   ]
  },
  {
   "cell_type": "code",
   "execution_count": null,
   "metadata": {},
   "outputs": [],
   "source": []
  }
 ],
 "metadata": {
  "kernelspec": {
   "display_name": "Python 3",
   "language": "python",
   "name": "python3"
  },
  "language_info": {
   "codemirror_mode": {
    "name": "ipython",
    "version": 3
   },
   "file_extension": ".py",
   "mimetype": "text/x-python",
   "name": "python",
   "nbconvert_exporter": "python",
   "pygments_lexer": "ipython3",
   "version": "3.7.3"
  }
 },
 "nbformat": 4,
 "nbformat_minor": 2
}
